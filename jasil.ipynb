{
  "nbformat": 4,
  "nbformat_minor": 0,
  "metadata": {
    "colab": {
      "provenance": []
    },
    "kernelspec": {
      "name": "python3",
      "display_name": "Python 3"
    },
    "language_info": {
      "name": "python"
    }
  },
  "cells": [
    {
      "cell_type": "markdown",
      "source": [
        "1.Write a Python function to accept a string value from the user and display thecount of each character in that string. Sample input: Enter a string value:assembly Sample output: a=1, s=2, e=1, m=1, b=1, l=1, y=1"
      ],
      "metadata": {
        "id": "BSkFXHEj10jL"
      }
    },
    {
      "cell_type": "code",
      "source": [
        "def count_characters(string):\n",
        "  counts = {}\n",
        "  for char in string:\n",
        "    if char in counts:\n",
        "      counts[char] += 1\n",
        "    else:\n",
        "      counts[char] = 1\n",
        "  return counts\n",
        "\n",
        "string = input(\"Enter a string value: \")\n",
        "\n",
        "counts = count_characters(string)\n",
        "\n",
        "for char, count in counts.items():\n",
        "  print(f\"{char}={count}\")\n",
        "\n"
      ],
      "metadata": {
        "colab": {
          "base_uri": "https://localhost:8080/"
        },
        "id": "0JsVcFzrON84",
        "outputId": "7f2fdef9-957a-4da9-f114-10bd2198f2e1"
      },
      "execution_count": 2,
      "outputs": [
        {
          "output_type": "stream",
          "name": "stdout",
          "text": [
            "Enter a string value: jasil\n",
            "j=1\n",
            "a=1\n",
            "s=1\n",
            "i=1\n",
            "l=1\n"
          ]
        }
      ]
    },
    {
      "cell_type": "markdown",
      "source": [
        "2.Write a Python function to find the maximum of three numbers Sample input:34,12,7 Sample output: 34"
      ],
      "metadata": {
        "id": "j64ciszd17H1"
      }
    },
    {
      "cell_type": "code",
      "source": [
        "a = int(input('Emter first number'))\n",
        "b = int(input('Enter second number'))\n",
        "c = int(input('Enter third number'))\n",
        "max = (a+b+c)\n",
        "print(a)"
      ],
      "metadata": {
        "colab": {
          "base_uri": "https://localhost:8080/"
        },
        "id": "sMWC4_wcWPwr",
        "outputId": "8e3c2190-fa88-46c4-8b92-4348ef3cbf3d"
      },
      "execution_count": 13,
      "outputs": [
        {
          "output_type": "stream",
          "name": "stdout",
          "text": [
            "Emter first number34\n",
            "Enter second number12\n",
            "Enter third number7\n",
            "34\n"
          ]
        }
      ]
    },
    {
      "cell_type": "markdown",
      "source": [
        "3.Write a Python function called exponent(base,exp) that returns an integervalue of base raises to the power of exp. Sample input: Enter the base: 2Enter the exponent: 3 Sample output: 8"
      ],
      "metadata": {
        "id": "BQL2jZBa2AZV"
      }
    },
    {
      "cell_type": "code",
      "source": [
        "def exponent(sum1,sum2):\n",
        "  print(sum1**sum2)\n",
        "sum1=int(input(\"enter the base: \"))\n",
        "sum2=int(input(\"enter the exponent: \"))\n",
        "exponent(sum1,sum2)"
      ],
      "metadata": {
        "colab": {
          "base_uri": "https://localhost:8080/"
        },
        "id": "wtPP18MIwbhl",
        "outputId": "8fe1885c-819f-46c0-a476-82ba80023140"
      },
      "execution_count": 17,
      "outputs": [
        {
          "output_type": "stream",
          "name": "stdout",
          "text": [
            "enter the base: 2\n",
            "enter the exponent: 3\n",
            "8\n"
          ]
        }
      ]
    },
    {
      "cell_type": "markdown",
      "source": [
        "4.write a Python function that takes a positive integer and returns the sum ofthe cube of all the positive integers smaller than the specified number.Sample input: 4 Sample output: 36"
      ],
      "metadata": {
        "id": "x5MPk6CV2DyE"
      }
    },
    {
      "cell_type": "code",
      "source": [
        "def sum_of_cubes(n):\n",
        "  num = int(input('Enter the number:'))\n",
        "cube = (4)\n",
        "print('cube of','is:',cube)"
      ],
      "metadata": {
        "colab": {
          "base_uri": "https://localhost:8080/"
        },
        "id": "eL6TsgnHawd6",
        "outputId": "8bd24c8f-8bd5-4e6b-f9e6-64a22b453371"
      },
      "execution_count": 31,
      "outputs": [
        {
          "output_type": "stream",
          "name": "stdout",
          "text": [
            "cube of is: 4\n"
          ]
        }
      ]
    },
    {
      "cell_type": "markdown",
      "source": [
        "5.Write a Python program which iterates from 1 to 10. For multiples of 2, print“Fizz” instead of the number and for the multiples of 5, print “Buzz”. Fornumbers which are multiples of both 2 and 5, print “FizzBuzz”. Sample input:numbers from 1 to 10 Sample output: 1 Fizz 3 Fizz Buzz Fizz 7 Fizz 9FizzBuzz"
      ],
      "metadata": {
        "id": "sHFjHkgb2H3D"
      }
    },
    {
      "cell_type": "code",
      "source": [
        "def function(i):\n",
        "  count=0\n",
        "for i in range(1, 11):\n",
        "    if i%2==0 and i%5==0:\n",
        "        print('FizzBuzz')\n",
        "    elif i%2==0:\n",
        "        print('Fizz')\n",
        "    elif i%5==0:\n",
        "        print('Buzz')\n",
        "    else:\n",
        "        print(i)\n"
      ],
      "metadata": {
        "colab": {
          "base_uri": "https://localhost:8080/"
        },
        "id": "rtHEGGQ0c3ZC",
        "outputId": "689eda09-d2a4-40f8-a705-21b0912c8678"
      },
      "execution_count": 18,
      "outputs": [
        {
          "output_type": "stream",
          "name": "stdout",
          "text": [
            "1\n",
            "Fizz\n",
            "3\n",
            "Fizz\n",
            "Buzz\n",
            "Fizz\n",
            "7\n",
            "Fizz\n",
            "9\n",
            "FizzBuzz\n"
          ]
        }
      ]
    },
    {
      "cell_type": "markdown",
      "source": [
        "6.Write a Python function to find the most frequent item in a list of numbers.Sample input: 2, 3, 4, 2, 5, 2 Sample output: 2"
      ],
      "metadata": {
        "id": "mKYN20Wj2MAv"
      }
    },
    {
      "cell_type": "code",
      "source": [
        "list1 = [2,3,4,5,]\n",
        "type(list1)"
      ],
      "metadata": {
        "colab": {
          "base_uri": "https://localhost:8080/"
        },
        "id": "kcqWJcvWf5JJ",
        "outputId": "0c939408-4b42-4132-9303-0a0ee16366e9"
      },
      "execution_count": 35,
      "outputs": [
        {
          "output_type": "execute_result",
          "data": {
            "text/plain": [
              "list"
            ]
          },
          "metadata": {},
          "execution_count": 35
        }
      ]
    },
    {
      "cell_type": "code",
      "source": [
        "list1[0]"
      ],
      "metadata": {
        "colab": {
          "base_uri": "https://localhost:8080/"
        },
        "id": "WLVb5LLQghso",
        "outputId": "3c5695b4-769c-476e-e015-f68d6514e81e"
      },
      "execution_count": 37,
      "outputs": [
        {
          "output_type": "execute_result",
          "data": {
            "text/plain": [
              "2"
            ]
          },
          "metadata": {},
          "execution_count": 37
        }
      ]
    },
    {
      "cell_type": "markdown",
      "source": [
        "7.Write a Python function to find the sum of squares of the numbers in a list.Sample input: 2,1,3,1 Sample output: 15"
      ],
      "metadata": {
        "id": "f2mDav3d00_T"
      }
    },
    {
      "cell_type": "code",
      "source": [
        "def sqr_of_list(x):\n",
        " a=0\n",
        " for i in x:\n",
        "  a=a+i**2\n",
        "  print(a)\n",
        "  a=[2,1,3,1]"
      ],
      "metadata": {
        "id": "dlaE4__pg8AB"
      },
      "execution_count": 29,
      "outputs": []
    },
    {
      "cell_type": "markdown",
      "source": [
        "8.Write a Python program using for loop that will iterate from 1 to 15. For each\\niteration, check if the current number is odd or even, and display the message\\nto the screen as odd or even. Sample input: 1….15 Sample output: 1-odd 2-\\neven …. 15-odd"
      ],
      "metadata": {
        "id": "axw6MJCO2P4e"
      }
    },
    {
      "cell_type": "code",
      "source": [
        "l1= [1,2,3,4,5,6,7,8,9,10,11,12,13,14,15]\n",
        "even=[]\n",
        "odd=[]\n",
        "while len(l1)>0:\n",
        "  l=l1.pop()\n",
        "  if l%2==0:\n",
        "    even.append(l)\n",
        "  else:\n",
        "      odd.append(l)\n",
        "print(even)\n",
        "print(odd)\n"
      ],
      "metadata": {
        "colab": {
          "base_uri": "https://localhost:8080/"
        },
        "id": "9XlcnTlfjYdg",
        "outputId": "315512f1-016d-4a47-b677-3b3e1c50aab4"
      },
      "execution_count": 30,
      "outputs": [
        {
          "output_type": "stream",
          "name": "stdout",
          "text": [
            "[14, 12, 10, 8, 6, 4, 2]\n",
            "[15, 13, 11, 9, 7, 5, 3, 1]\n"
          ]
        }
      ]
    },
    {
      "cell_type": "markdown",
      "source": [
        "9.Write a Python function to convert temperatures to and from Celsius\\nFahrenheit. [Formula: c/5=f-32/9 where c=temperature in Celsius and f=\\ntemperature in Fahrenheit.] Sample input: Temperature in Fahrenheit =41\\nSample output: Temperature in Celsius =5"
      ],
      "metadata": {
        "id": "Z8-9osTh2YFv"
      }
    },
    {
      "cell_type": "code",
      "source": [
        "def convert_temp_to_fahrenheit(fahrenheit):\n",
        "  celsius = (fahrenheit-32)/9*5\n",
        "  print('Temperature in celsius:',celsius)\n",
        "fahrenheit = int(input('Temperature is fahrenheit:'))\n",
        "convert_temp_to_fahrenheit(fahrenheit)\n"
      ],
      "metadata": {
        "colab": {
          "base_uri": "https://localhost:8080/"
        },
        "id": "Il5KwBaOx615",
        "outputId": "cda72fa0-e3a2-41b5-80dc-2f674c069e6a"
      },
      "execution_count": 24,
      "outputs": [
        {
          "output_type": "stream",
          "name": "stdout",
          "text": [
            "Temperature is fahrenheit:41\n",
            "Temperature in celsius: 5.0\n"
          ]
        }
      ]
    },
    {
      "cell_type": "markdown",
      "source": [
        "10.Write a Python function to calculate the factorial of a number (a nonnegative\n",
        "integer). The function accepts the number as an argument. Sample input: 3\n",
        "Sample output: 6"
      ],
      "metadata": {
        "id": "1VfQmRDh2tPj"
      }
    },
    {
      "cell_type": "code",
      "source": [
        "def factorial(n):\n",
        "    out = 1\n",
        "    for i in range(2, n+1):\n",
        "        out *= i\n",
        "    return out\n",
        "num = 3\n",
        "print(\"Factorial of\", num, \"is\",\n",
        "factorial(num))\n"
      ],
      "metadata": {
        "colab": {
          "base_uri": "https://localhost:8080/"
        },
        "id": "QlxbRC-gzFM8",
        "outputId": "94d14cb1-73a9-4336-8288-a00a658eff88"
      },
      "execution_count": 31,
      "outputs": [
        {
          "output_type": "stream",
          "name": "stdout",
          "text": [
            "Factorial of 3 is 6\n"
          ]
        }
      ]
    },
    {
      "cell_type": "markdown",
      "source": [
        "11.Case Study: Grade Calculator\n",
        "In this case study, you have to create a program that calculates the final\n",
        "grade for a student based on their scores in different assessments. The\n",
        "program will take input from the user, perform calculations, and display the\n",
        "final grade along with additional information.\n",
        "Requirements:\n",
        "1. The program should prompt the user to enter the following information:\n",
        "• Student's name\n",
        "• Number of assessments (e.g., assignments, quizzes, exams)\n",
        "• Weight (percentage) of each assessment type\n",
        "2. For each assessment type, the program should ask the user to enter:\n",
        "• Number of assessments of that type\n",
        "• Score obtained for each assessment.\n",
        "3. The program should calculate the weighted average score for each\n",
        "assessment type.\n",
        "4. The program should then calculate the final grade using the weighted\n",
        "average scores and the weights provided by the user.\n",
        "5. The program should display the following information:\n",
        "• Student's name\n",
        "• Weighted average score for each assessment type\n",
        "• Final grade\n",
        "• Letter grade based on a grading scale (e.g., A, B, C, D, F)\n",
        "6. The program should have a function to determine the letter grade based\n",
        "on the final grade."
      ],
      "metadata": {
        "id": "evaWMFw03iX_"
      }
    }
  ]
}